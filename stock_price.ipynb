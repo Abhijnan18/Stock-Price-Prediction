import yfinance as yf
import numpy as np
from sklearn.model_selection import train_test_split
from sklearn.ensemble import RandomForestRegressor
from sklearn.metrics import mean_squared_error
import matplotlib.pyplot as plt

# Fetch historical data from Yahoo Finance
def fetch_stock_data(symbol, start_date, end_date):
    data = yf.download(symbol, start=start_date, end=end_date)
    return data

# Preprocess data for model training
def preprocess_data(data):
    data['Date'] = data.index
    data['Date'] = data['Date'].astype(str)
    data['Date'] = data['Date'].str.replace('-', '')
    return data

# Train Random Forest regression model
def train_model(X_train, y_train):
    model = RandomForestRegressor(n_estimators=100, random_state=42)
    model.fit(X_train, y_train)
    return model

# Evaluate model performance
def evaluate_model(model, X_test, y_test):
    y_pred = model.predict(X_test)
    mse = mean_squared_error(y_test, y_pred)
    rmse = np.sqrt(mse)
    print("Mean Squared Error:", mse)
    print("Root Mean Squared Error:", rmse)

# Plot actual vs predicted prices
def plot_predictions(y_test, y_pred):
    plt.figure(figsize=(10, 6))
    plt.plot(y_test.index, y_test, label='Actual Price')
    plt.plot(y_test.index, y_pred, label='Predicted Price')
    plt.xlabel('Date')
    plt.ylabel('Price')
    plt.title('Stock Price Prediction')
    plt.legend()
    plt.show()

if __name__ == "__main__":
    # Define parameters
    symbol = 'AAPL'  # Example stock symbol (Apple Inc.)
    start_date = '2024-01-01'  # Start date for historical data
    end_date = '2024-03-12'  # End date for historical data
    prediction_date = '2023-03-14'  # Date for which to predict stock price

    # Fetch data
    data = fetch_stock_data(symbol, start_date, end_date)

    # Preprocess data
    data = preprocess_data(data)

    # Prepare features and target variable
    X = data[['Date']]
    y = data['Close']

    # Split data into training and testing sets
    X_train, X_test, y_train, y_test = train_test_split(X, y, test_size=0.2, random_state=42)

    # Train model
    model = train_model(X_train, y_train)

    # Evaluate model
    evaluate_model(model, X_test, y_test)

    # Make predictions for the given date
    prediction_date = prediction_date.replace('-', '')
    prediction = model.predict([[prediction_date]])
    print("Predicted stock price for", prediction_date, ":", prediction)

    # Plot actual vs predicted prices
    plot_predictions(y_test, model.predict(X_test))
